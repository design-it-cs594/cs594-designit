{
 "cells": [
  {
   "cell_type": "code",
   "execution_count": 2,
   "metadata": {},
   "outputs": [],
   "source": [
    "import requests,re\n",
    "from bs4 import BeautifulSoup\n",
    "\n",
    "ftags = []\n",
    "\n",
    "include_content = ('bedroom', 'desk', 'chair', 'mattress', 'sofa', 'office')\n",
    "\n",
    "regexp = re.compile(\n",
    "        r'^(?:http|ftp)s?://' # http:// or https://\n",
    "        r'(?:(?:[A-Z0-9](?:[A-Z0-9-]{0,61}[A-Z0-9])?\\.)+(?:[A-Z]{2,6}\\.?|[A-Z0-9-]{2,}\\.?)|' #domain...\n",
    "        r'localhost|' #localhost...\n",
    "        r'\\d{1,3}\\.\\d{1,3}\\.\\d{1,3}\\.\\d{1,3})' # ...or ip\n",
    "        r'(?::\\d+)?' # optional port\n",
    "        r'(?:/?|[/?]\\S+)$', re.IGNORECASE) \n",
    "\n",
    "doc_url = r'https://www.ikea.com/us/en/'\n",
    "\n",
    "durl=requests.get(doc_url)\n",
    "dcont=durl.content\n",
    "soup=BeautifulSoup(dcont,\"html.parser\")\n",
    "tags = soup.find_all('a')\n",
    "\n",
    "for tag in tags:\n",
    "    if(re.match(regexp, tag[\"href\"]) and \n",
    "       any(substring in tag[\"href\"] for substring in include_content) and \n",
    "       tag[\"href\"] not in ftags):\n",
    "        ftags.append(tag[\"href\"])"
   ]
  },
  {
   "cell_type": "code",
   "execution_count": 3,
   "metadata": {},
   "outputs": [
    {
     "data": {
      "text/plain": [
       "['https://www.ikea.com/us/en/cat/sofas-armchairs-fu003/',\n",
       " 'https://www.ikea.com/us/en/cat/tables-desks-fu004/',\n",
       " 'https://www.ikea.com/us/en/cat/chairs-fu002/',\n",
       " 'https://www.ikea.com/us/en/cat/sideboards-buffets-sofa-tables-30454/',\n",
       " 'https://www.ikea.com/us/en/cat/bar-tables-chairs-16244/',\n",
       " 'https://www.ikea.com/us/en/cat/all-sofas-39130/',\n",
       " 'https://www.ikea.com/us/en/cat/sleeper-sofas-10663/',\n",
       " 'https://www.ikea.com/us/en/cat/modular-sofas-16238/',\n",
       " 'https://www.ikea.com/us/en/cat/armchairs-chaises-16239/',\n",
       " 'https://www.ikea.com/us/en/cat/beds-mattresses-bm001/',\n",
       " 'https://www.ikea.com/us/en/cat/mattresses-bm002/',\n",
       " 'https://www.ikea.com/us/en/cat/mattress-bases-24825/',\n",
       " 'https://www.ikea.com/us/en/cat/cribs-crib-mattresses-18755/',\n",
       " 'https://www.ikea.com/us/en/cat/kids-mattresses-18724/',\n",
       " 'https://www.ikea.com/us/en/rooms/bedroom/',\n",
       " 'https://www.ikea.com/us/en/rooms/home-office/']"
      ]
     },
     "execution_count": 3,
     "metadata": {},
     "output_type": "execute_result"
    }
   ],
   "source": [
    "ftags"
   ]
  },
  {
   "cell_type": "code",
   "execution_count": null,
   "metadata": {},
   "outputs": [],
   "source": []
  }
 ],
 "metadata": {
  "kernelspec": {
   "display_name": "Python 3",
   "language": "python",
   "name": "python3"
  },
  "language_info": {
   "codemirror_mode": {
    "name": "ipython",
    "version": 3
   },
   "file_extension": ".py",
   "mimetype": "text/x-python",
   "name": "python",
   "nbconvert_exporter": "python",
   "pygments_lexer": "ipython3",
   "version": "3.7.3"
  }
 },
 "nbformat": 4,
 "nbformat_minor": 2
}
