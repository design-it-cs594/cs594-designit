{
 "cells": [
  {
   "cell_type": "code",
   "execution_count": 2,
   "metadata": {},
   "outputs": [],
   "source": [
    "import requests,re\n",
    "from bs4 import BeautifulSoup\n",
    "\n",
    "ftags = []\n",
    "\n",
    "include_content = ('bedroom', 'desk', 'chair', 'mattress', 'sofa', 'office')\n",
    "\n",
    "regexp = re.compile(\n",
    "        r'^(?:http|ftp)s?://' # http:// or https://\n",
    "        r'(?:(?:[A-Z0-9](?:[A-Z0-9-]{0,61}[A-Z0-9])?\\.)+(?:[A-Z]{2,6}\\.?|[A-Z0-9-]{2,}\\.?)|' #domain...\n",
    "        r'localhost|' #localhost...\n",
    "        r'\\d{1,3}\\.\\d{1,3}\\.\\d{1,3}\\.\\d{1,3})' # ...or ip\n",
    "        r'(?::\\d+)?' # optional port\n",
    "        r'(?:/?|[/?]\\S+)$', re.IGNORECASE) \n",
    "\n",
    "doc_url = r'https://www.ikea.com/us/en/'\n",
    "\n",
    "durl=requests.get(doc_url)\n",
    "dcont=durl.content\n",
    "soup=BeautifulSoup(dcont,\"html.parser\")\n",
    "tags = soup.find_all('a')\n",
    "\n",
    "for tag in tags:\n",
    "    if(re.match(regexp, tag[\"href\"]) and \n",
    "       any(substring in tag[\"href\"] for substring in include_content) and \n",
    "       tag[\"href\"] not in ftags):\n",
    "        ftags.append(tag[\"href\"])"
   ]
  },
  {
   "cell_type": "code",
   "execution_count": 3,
   "metadata": {},
   "outputs": [
    {
     "data": {
      "text/plain": [
       "['https://www.ikea.com/us/en/cat/sofas-armchairs-fu003/',\n",
       " 'https://www.ikea.com/us/en/cat/tables-desks-fu004/',\n",
       " 'https://www.ikea.com/us/en/cat/chairs-fu002/',\n",
       " 'https://www.ikea.com/us/en/cat/sideboards-buffets-sofa-tables-30454/',\n",
       " 'https://www.ikea.com/us/en/cat/bar-tables-chairs-16244/',\n",
       " 'https://www.ikea.com/us/en/cat/all-sofas-39130/',\n",
       " 'https://www.ikea.com/us/en/cat/sleeper-sofas-10663/',\n",
       " 'https://www.ikea.com/us/en/cat/modular-sofas-16238/',\n",
       " 'https://www.ikea.com/us/en/cat/armchairs-chaises-16239/',\n",
       " 'https://www.ikea.com/us/en/cat/beds-mattresses-bm001/',\n",
       " 'https://www.ikea.com/us/en/cat/mattresses-bm002/',\n",
       " 'https://www.ikea.com/us/en/cat/mattress-bases-24825/',\n",
       " 'https://www.ikea.com/us/en/cat/cribs-crib-mattresses-18755/',\n",
       " 'https://www.ikea.com/us/en/cat/kids-mattresses-18724/',\n",
       " 'https://www.ikea.com/us/en/rooms/bedroom/',\n",
       " 'https://www.ikea.com/us/en/rooms/home-office/']"
      ]
     },
     "execution_count": 3,
     "metadata": {},
     "output_type": "execute_result"
    }
   ],
   "source": [
    "ftags"
   ]
  },
  {
   "cell_type": "code",
   "execution_count": 72,
   "metadata": {},
   "outputs": [],
   "source": [
    "import requests\n",
    "from bs4 import BeautifulSoup\n",
    "\n",
    "include_content = ('bedroom', 'desk', 'chair', 'table', 'mattress', 'sofa')\n",
    "\n",
    "def recursiveUrl(url, link, depth):\n",
    "    if depth == 5:\n",
    "        return url\n",
    "    else:\n",
    "        page = requests.get(url + link['href'])\n",
    "        soup = BeautifulSoup(page.text, 'html.parser')\n",
    "        newlink = soup.find('a')\n",
    "        if len(newlink) == 0:\n",
    "            return link\n",
    "        else:\n",
    "            return link, recursiveUrl(url, newlink, depth + 1)\n",
    "\n",
    "def getLinks(url):\n",
    "    page = requests.get(url)\n",
    "    soup = BeautifulSoup(page.text, 'html.parser')\n",
    "    links = soup.find_all('a')\n",
    "    rlinks = set()\n",
    "    for link in links:\n",
    "#         if any(substring in link['href'] for substring in include_content):\n",
    "          if 'desk' in link['href']:\n",
    "            rurl, r = recursiveUrl(url, link, 0)\n",
    "            print(rurl['href'])\n",
    "            rlinks.add(rurl['href'])\n",
    "    return rlinks"
   ]
  },
  {
   "cell_type": "code",
   "execution_count": 74,
   "metadata": {},
   "outputs": [
    {
     "name": "stdout",
     "output_type": "stream",
     "text": [
      "https://www.ikea.com/us/en/cat/tables-desks-fu004/\n",
      "https://www.ikea.com/us/en/cat/tables-desks-fu004/\n",
      "https://www.ikea.com/us/en/cat/desks-computer-desks-20649/\n",
      "https://www.ikea.com/us/en/cat/desks-for-gaming-47070/\n",
      "https://www.ikea.com/us/en/cat/desks-for-office-47069/\n",
      "https://www.ikea.com/us/en/cat/desks-for-stationary-computers-20651/\n",
      "https://www.ikea.com/us/en/p/malm-desk-black-brown-00214157/\n",
      "https://www.ikea.com/us/en/p/malm-desk-black-brown-00214157/\n",
      "https://www.ikea.com/us/en/p/malm-desk-with-pull-out-panel-black-brown-60214183/\n",
      "https://www.ikea.com/us/en/p/malm-desk-with-pull-out-panel-black-brown-60214183/\n",
      "https://www.ikea.com/us/en/p/lommarp-desk-light-beige-90442824/\n",
      "https://www.ikea.com/us/en/p/lommarp-desk-light-beige-90442824/\n",
      "https://www.ikea.com/us/en/p/skarsta-desk-sit-stand-white-s49084965/\n",
      "https://www.ikea.com/us/en/p/skarsta-desk-sit-stand-white-s49084965/\n",
      "https://www.ikea.com/us/en/p/bekant-desk-black-stained-ash-veneer-black-s69282592/\n",
      "https://www.ikea.com/us/en/p/bekant-desk-black-stained-ash-veneer-black-s69282592/\n",
      "https://www.ikea.com/us/en/p/bekant-corner-desk-right-sit-stand-black-stained-ash-veneer-black-s79282389/\n",
      "https://www.ikea.com/us/en/p/bekant-corner-desk-right-sit-stand-black-stained-ash-veneer-black-s79282389/\n",
      "https://www.ikea.com/us/en/p/hemnes-desk-dark-gray-gray-stained-30381729/\n",
      "https://www.ikea.com/us/en/p/hemnes-desk-dark-gray-gray-stained-30381729/\n",
      "https://www.ikea.com/us/en/p/lillasen-desk-bamboo-90278277/\n",
      "https://www.ikea.com/us/en/p/lillasen-desk-bamboo-90278277/\n",
      "https://www.ikea.com/us/en/p/bekant-desk-sit-stand-white-stained-oak-veneer-white-s99282086/\n",
      "https://www.ikea.com/us/en/p/bekant-desk-sit-stand-white-stained-oak-veneer-white-s99282086/\n",
      "https://www.ikea.com/us/en/p/skarsta-desk-sit-stand-white-s29084966/\n",
      "https://www.ikea.com/us/en/p/skarsta-desk-sit-stand-white-s29084966/\n",
      "https://www.ikea.com/us/en/p/hemnes-desk-with-2-drawers-white-stain-90363223/\n",
      "https://www.ikea.com/us/en/p/hemnes-desk-with-2-drawers-white-stain-90363223/\n",
      "https://www.ikea.com/us/en/p/fredde-desk-black-50219044/\n",
      "https://www.ikea.com/us/en/p/fredde-desk-black-50219044/\n",
      "https://www.ikea.com/us/en/p/micke-desk-black-brown-10244743/\n",
      "https://www.ikea.com/us/en/p/micke-desk-black-brown-10244743/\n",
      "https://www.ikea.com/us/en/p/kullaberg-desk-pine-black-s69162599/\n",
      "https://www.ikea.com/us/en/p/kullaberg-desk-pine-black-s69162599/\n",
      "https://www.ikea.com/us/en/p/micke-desk-black-brown-s49926749/\n",
      "https://www.ikea.com/us/en/p/micke-desk-black-brown-s49926749/\n",
      "https://www.ikea.com/us/en/p/besta-burs-desk-high-gloss-white-70245339/\n",
      "https://www.ikea.com/us/en/p/besta-burs-desk-high-gloss-white-70245339/\n",
      "https://www.ikea.com/us/en/p/thyge-desk-white-silver-color-s49110931/\n",
      "https://www.ikea.com/us/en/p/thyge-desk-white-silver-color-s49110931/\n",
      "https://www.ikea.com/us/en/cat/desks-computer-desks-20649/page-2/\n",
      "{'https://www.ikea.com/us/en/cat/desks-computer-desks-20649/page-2/', 'https://www.ikea.com/us/en/cat/desks-for-stationary-computers-20651/', 'https://www.ikea.com/us/en/p/malm-desk-with-pull-out-panel-black-brown-60214183/', 'https://www.ikea.com/us/en/p/bekant-desk-black-stained-ash-veneer-black-s69282592/', 'https://www.ikea.com/us/en/p/fredde-desk-black-50219044/', 'https://www.ikea.com/us/en/p/micke-desk-black-brown-s49926749/', 'https://www.ikea.com/us/en/p/lommarp-desk-light-beige-90442824/', 'https://www.ikea.com/us/en/p/bekant-corner-desk-right-sit-stand-black-stained-ash-veneer-black-s79282389/', 'https://www.ikea.com/us/en/p/kullaberg-desk-pine-black-s69162599/', 'https://www.ikea.com/us/en/p/hemnes-desk-with-2-drawers-white-stain-90363223/', 'https://www.ikea.com/us/en/p/skarsta-desk-sit-stand-white-s49084965/', 'https://www.ikea.com/us/en/cat/desks-computer-desks-20649/', 'https://www.ikea.com/us/en/cat/desks-for-office-47069/', 'https://www.ikea.com/us/en/p/hemnes-desk-dark-gray-gray-stained-30381729/', 'https://www.ikea.com/us/en/p/thyge-desk-white-silver-color-s49110931/', 'https://www.ikea.com/us/en/p/lillasen-desk-bamboo-90278277/', 'https://www.ikea.com/us/en/p/micke-desk-black-brown-10244743/', 'https://www.ikea.com/us/en/p/malm-desk-black-brown-00214157/', 'https://www.ikea.com/us/en/cat/tables-desks-fu004/', 'https://www.ikea.com/us/en/p/skarsta-desk-sit-stand-white-s29084966/', 'https://www.ikea.com/us/en/cat/desks-for-gaming-47070/', 'https://www.ikea.com/us/en/p/besta-burs-desk-high-gloss-white-70245339/', 'https://www.ikea.com/us/en/p/bekant-desk-sit-stand-white-stained-oak-veneer-white-s99282086/'}\n"
     ]
    }
   ],
   "source": [
    "deskLinks= getLinks(r'https://www.ikea.com/us/en/cat/desks-computer-desks-20649/')\n",
    "print(deskLinks)"
   ]
  },
  {
   "cell_type": "code",
   "execution_count": null,
   "metadata": {},
   "outputs": [],
   "source": []
  }
 ],
 "metadata": {
  "kernelspec": {
   "display_name": "Python 3",
   "language": "python",
   "name": "python3"
  },
  "language_info": {
   "codemirror_mode": {
    "name": "ipython",
    "version": 3
   },
   "file_extension": ".py",
   "mimetype": "text/x-python",
   "name": "python",
   "nbconvert_exporter": "python",
   "pygments_lexer": "ipython3",
   "version": "3.7.3"
  }
 },
 "nbformat": 4,
 "nbformat_minor": 2
}
