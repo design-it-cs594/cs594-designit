{
 "cells": [
  {
   "cell_type": "code",
   "execution_count": 1,
   "metadata": {},
   "outputs": [],
   "source": [
    "import requests\n",
    "import urllib.request\n",
    "import time\n",
    "from bs4 import BeautifulSoup\n",
    "import pandas as pd"
   ]
  },
  {
   "cell_type": "code",
   "execution_count": 8,
   "metadata": {},
   "outputs": [],
   "source": [
    "def scrapeItems(urlList, itemName):\n",
    "    itemDf = pd.DataFrame(columns=['Brand', 'Price', 'Image', 'Height', 'Width', 'Depth', 'Seller', 'ProductLink'])\n",
    "\n",
    "#     urlList = [\"https://www.ikea.com/us/en/p/friheten-sleeper-sectional-3-seat-w-storage-skiftebo-blue-s69297560/\", \"https://www.ikea.com/us/en/p/karlstad-sofa-knisa-light-gray-s39132702/\", \"https://www.ikea.com/us/en/p/kivik-sofa-hillared-with-chaise-hillared-anthracite-s69193666/\", \"https://www.ikea.com/us/en/p/hemnes-daybed-with-3-drawers-2-mattresses-white-meistervik-firm-s59186119/\", \"https://www.ikea.com/us/en/p/knislinge-sofa-idhult-black-80278923/\", \"https://www.ikea.com/us/en/p/faerloev-sleeper-sofa-flodafors-white-s09252753/\", \"https://www.ikea.com/us/en/p/sandbacken-sleeper-sectional-3-seat-lofallet-beige-s89217906/\"]\n",
    "    for url in urlList:\n",
    "        #url = 'https://www.ikea.com/us/en/p/landskrona-loveseat-gunnared-dark-gray-metal-s89270277/'\n",
    "        response = requests.get(url)\n",
    "        response\n",
    "        soup = BeautifulSoup(response.text, \"html.parser\")\n",
    "        brand = soup.findAll(\"span\", {\"class\":\"product-pip__name\"})[0].contents[0]\n",
    "        price = soup.findAll(\"span\", {\"class\":\"product-pip__price__value\"})[0].contents[0]\n",
    "        #Contains all dimension-names from product description\n",
    "        dimensions_desc = soup.findAll(\"dt\", {\"class\":\"product-pip__definition-list-item\"})\n",
    "\n",
    "        imgLink = soup.findAll(\"img\", {\"class\":\"\"})[0]['src']\n",
    "        #Contains all dimension-values from product description\n",
    "        dimensions = soup.findAll(\"dd\", {\"class\":\"product-pip__definition-list-item\"})\n",
    "        dimensions\n",
    "\n",
    "        #Finding All height-related dimensions\n",
    "        height_index = []\n",
    "        for dim in range(0, len(dimensions_desc)):\n",
    "            if(\"height\" in dimensions_desc[dim].contents[0].lower()):\n",
    "                height_index.append(dim)\n",
    "\n",
    "        #Finding max of given heights. Seemed in sync with most of the images \n",
    "        #with minute variations in the exceptions.\n",
    "        heights = []\n",
    "        for index in height_index:\n",
    "            heights.append(dimensions[index].contents[0])\n",
    "\n",
    "        height = max(heights)\n",
    "\n",
    "\n",
    "        width_index = []\n",
    "        for dim in range(0, len(dimensions_desc)):\n",
    "            if(\"width\" in dimensions_desc[dim].contents[0].lower()):\n",
    "                width_index.append(dim)\n",
    "        widths = []\n",
    "        for index in width_index:\n",
    "            widths.append(dimensions[index].contents[0])\n",
    "\n",
    "        width = max(widths)\n",
    "\n",
    "\n",
    "        depth_index = []\n",
    "        for dim in range(0, len(dimensions_desc)):\n",
    "            if(\"depth\" in dimensions_desc[dim].contents[0].lower()):\n",
    "                depth_index.append(dim)\n",
    "        depths = []\n",
    "        for index in depth_index:\n",
    "            depths.append(dimensions[index].contents[0])\n",
    "\n",
    "        depth = max(depths)\n",
    "        depth\n",
    "\n",
    "        productLink=url\n",
    "        print(brand, price, imgLink, height, width, depth, productLink)\n",
    "        itemDf = sofaDf.append({\"Brand\":brand, \"Price\":price, \"Image\":imgLink, \"Height\":height, \"Width\":width, \"Depth\":depth, \"Seller\":\"IKEA\", \"ProductLink\":productLink}, ignore_index=True)\n",
    "\n",
    "    itemDf\n",
    "    \n",
    "    filename = itemName+\".csv\"\n",
    "    itemDf.to_csv(filename)"
   ]
  },
  {
   "cell_type": "code",
   "execution_count": 10,
   "metadata": {},
   "outputs": [
    {
     "name": "stdout",
     "output_type": "stream",
     "text": [
      "FRIHETEN $599.00 https://www.ikea.com/PIAimages/0690243_PE723167_S5.JPG?f=s 26 \" 55 1/8 \" 59 1/2 \" https://www.ikea.com/us/en/p/friheten-sleeper-sectional-3-seat-w-storage-skiftebo-blue-s69297560/\n",
      "KARLSTAD $399.00 https://www.ikea.com/PIAimages/0404895_PE577343_S5.JPG?f=s 31 1/2 \" 80 3/4 \" 36 5/8 \" https://www.ikea.com/us/en/p/karlstad-sofa-knisa-light-gray-s39132702/\n",
      "KIVIK $849.00 https://www.ikea.com/PIAimages/0479956_PE619108_S5.JPG?f=s 32 5/8 \" 110 1/4 \" 64 1/8 \" https://www.ikea.com/us/en/p/kivik-sofa-hillared-with-chaise-hillared-anthracite-s69193666/\n",
      "HEMNES $599.00 https://www.ikea.com/PIAimages/0636371_PE697851_S5.JPG?f=s 7 1/8 \" 75 5/8 \" 27 1/2 \" https://www.ikea.com/us/en/p/hemnes-daybed-with-3-drawers-2-mattresses-white-meistervik-firm-s59186119/\n",
      "KNISLINGE $349.00 https://www.ikea.com/PIAimages/0340648_PE528031_S5.JPG?f=s 37 \" 80 3/4 \" 35 \" https://www.ikea.com/us/en/p/knislinge-sofa-idhult-black-80278923/\n",
      "FÄRLÖV $999.00 https://www.ikea.com/PIAimages/0567578_PE667131_S5.JPG?f=s 35 3/8 \" 74 \" 42 7/8 \" https://www.ikea.com/us/en/p/faerloev-sleeper-sofa-flodafors-white-s09252753/\n",
      "SANDBACKEN $429.00 https://www.ikea.com/PIAimages/0524215_PE644210_S5.JPG?f=s 27 1/8 \" 83 1/2 \" 58 5/8 \" https://www.ikea.com/us/en/p/sandbacken-sleeper-sectional-3-seat-lofallet-beige-s89217906/\n",
      "FRIHETEN $599.00 https://www.ikea.com/PIAimages/0690243_PE723167_S5.JPG?f=s 26 \" 55 1/8 \" 59 1/2 \" https://www.ikea.com/us/en/p/friheten-sleeper-sectional-3-seat-w-storage-skiftebo-blue-s69297560/\n",
      "KARLSTAD $399.00 https://www.ikea.com/PIAimages/0404895_PE577343_S5.JPG?f=s 31 1/2 \" 80 3/4 \" 36 5/8 \" https://www.ikea.com/us/en/p/karlstad-sofa-knisa-light-gray-s39132702/\n",
      "KIVIK $849.00 https://www.ikea.com/PIAimages/0479956_PE619108_S5.JPG?f=s 32 5/8 \" 110 1/4 \" 64 1/8 \" https://www.ikea.com/us/en/p/kivik-sofa-hillared-with-chaise-hillared-anthracite-s69193666/\n",
      "HEMNES $599.00 https://www.ikea.com/PIAimages/0636371_PE697851_S5.JPG?f=s 7 1/8 \" 75 5/8 \" 27 1/2 \" https://www.ikea.com/us/en/p/hemnes-daybed-with-3-drawers-2-mattresses-white-meistervik-firm-s59186119/\n",
      "KNISLINGE $349.00 https://www.ikea.com/PIAimages/0340648_PE528031_S5.JPG?f=s 37 \" 80 3/4 \" 35 \" https://www.ikea.com/us/en/p/knislinge-sofa-idhult-black-80278923/\n",
      "FÄRLÖV $999.00 https://www.ikea.com/PIAimages/0567578_PE667131_S5.JPG?f=s 35 3/8 \" 74 \" 42 7/8 \" https://www.ikea.com/us/en/p/faerloev-sleeper-sofa-flodafors-white-s09252753/\n",
      "SANDBACKEN $429.00 https://www.ikea.com/PIAimages/0524215_PE644210_S5.JPG?f=s 27 1/8 \" 83 1/2 \" 58 5/8 \" https://www.ikea.com/us/en/p/sandbacken-sleeper-sectional-3-seat-lofallet-beige-s89217906/\n",
      "FRIHETEN $599.00 https://www.ikea.com/PIAimages/0690243_PE723167_S5.JPG?f=s 26 \" 55 1/8 \" 59 1/2 \" https://www.ikea.com/us/en/p/friheten-sleeper-sectional-3-seat-w-storage-skiftebo-blue-s69297560/\n",
      "KARLSTAD $399.00 https://www.ikea.com/PIAimages/0404895_PE577343_S5.JPG?f=s 31 1/2 \" 80 3/4 \" 36 5/8 \" https://www.ikea.com/us/en/p/karlstad-sofa-knisa-light-gray-s39132702/\n",
      "KIVIK $849.00 https://www.ikea.com/PIAimages/0479956_PE619108_S5.JPG?f=s 32 5/8 \" 110 1/4 \" 64 1/8 \" https://www.ikea.com/us/en/p/kivik-sofa-hillared-with-chaise-hillared-anthracite-s69193666/\n",
      "HEMNES $599.00 https://www.ikea.com/PIAimages/0636371_PE697851_S5.JPG?f=s 7 1/8 \" 75 5/8 \" 27 1/2 \" https://www.ikea.com/us/en/p/hemnes-daybed-with-3-drawers-2-mattresses-white-meistervik-firm-s59186119/\n",
      "KNISLINGE $349.00 https://www.ikea.com/PIAimages/0340648_PE528031_S5.JPG?f=s 37 \" 80 3/4 \" 35 \" https://www.ikea.com/us/en/p/knislinge-sofa-idhult-black-80278923/\n",
      "FÄRLÖV $999.00 https://www.ikea.com/PIAimages/0567578_PE667131_S5.JPG?f=s 35 3/8 \" 74 \" 42 7/8 \" https://www.ikea.com/us/en/p/faerloev-sleeper-sofa-flodafors-white-s09252753/\n",
      "SANDBACKEN $429.00 https://www.ikea.com/PIAimages/0524215_PE644210_S5.JPG?f=s 27 1/8 \" 83 1/2 \" 58 5/8 \" https://www.ikea.com/us/en/p/sandbacken-sleeper-sectional-3-seat-lofallet-beige-s89217906/\n",
      "FRIHETEN $599.00 https://www.ikea.com/PIAimages/0690243_PE723167_S5.JPG?f=s 26 \" 55 1/8 \" 59 1/2 \" https://www.ikea.com/us/en/p/friheten-sleeper-sectional-3-seat-w-storage-skiftebo-blue-s69297560/\n",
      "KARLSTAD $399.00 https://www.ikea.com/PIAimages/0404895_PE577343_S5.JPG?f=s 31 1/2 \" 80 3/4 \" 36 5/8 \" https://www.ikea.com/us/en/p/karlstad-sofa-knisa-light-gray-s39132702/\n",
      "KIVIK $849.00 https://www.ikea.com/PIAimages/0479956_PE619108_S5.JPG?f=s 32 5/8 \" 110 1/4 \" 64 1/8 \" https://www.ikea.com/us/en/p/kivik-sofa-hillared-with-chaise-hillared-anthracite-s69193666/\n",
      "HEMNES $599.00 https://www.ikea.com/PIAimages/0636371_PE697851_S5.JPG?f=s 7 1/8 \" 75 5/8 \" 27 1/2 \" https://www.ikea.com/us/en/p/hemnes-daybed-with-3-drawers-2-mattresses-white-meistervik-firm-s59186119/\n",
      "KNISLINGE $349.00 https://www.ikea.com/PIAimages/0340648_PE528031_S5.JPG?f=s 37 \" 80 3/4 \" 35 \" https://www.ikea.com/us/en/p/knislinge-sofa-idhult-black-80278923/\n",
      "FÄRLÖV $999.00 https://www.ikea.com/PIAimages/0567578_PE667131_S5.JPG?f=s 35 3/8 \" 74 \" 42 7/8 \" https://www.ikea.com/us/en/p/faerloev-sleeper-sofa-flodafors-white-s09252753/\n",
      "SANDBACKEN $429.00 https://www.ikea.com/PIAimages/0524215_PE644210_S5.JPG?f=s 27 1/8 \" 83 1/2 \" 58 5/8 \" https://www.ikea.com/us/en/p/sandbacken-sleeper-sectional-3-seat-lofallet-beige-s89217906/\n"
     ]
    }
   ],
   "source": [
    "fourProducts = pd.read_csv(\"FourProductsURL.csv\")\n",
    "noOfItems = len(fourProducts)\n",
    "items = list(fourProducts)\n",
    "for itemNumber in range(len(items)):\n",
    "    scrapeItems(fourProducts[items[itemNumber]],items[itemNumber])"
   ]
  },
  {
   "cell_type": "code",
   "execution_count": null,
   "metadata": {},
   "outputs": [],
   "source": []
  }
 ],
 "metadata": {
  "kernelspec": {
   "display_name": "Python 3",
   "language": "python",
   "name": "python3"
  },
  "language_info": {
   "codemirror_mode": {
    "name": "ipython",
    "version": 3
   },
   "file_extension": ".py",
   "mimetype": "text/x-python",
   "name": "python",
   "nbconvert_exporter": "python",
   "pygments_lexer": "ipython3",
   "version": "3.7.3"
  }
 },
 "nbformat": 4,
 "nbformat_minor": 2
}
