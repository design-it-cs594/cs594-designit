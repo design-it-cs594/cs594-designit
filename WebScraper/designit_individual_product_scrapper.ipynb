{
 "cells": [
  {
   "cell_type": "code",
   "execution_count": 4,
   "metadata": {},
   "outputs": [],
   "source": [
    "import requests\n",
    "import urllib.request\n",
    "import time\n",
    "from bs4 import BeautifulSoup"
   ]
  },
  {
   "cell_type": "code",
   "execution_count": 5,
   "metadata": {},
   "outputs": [
    {
     "data": {
      "text/plain": [
       "<Response [200]>"
      ]
     },
     "execution_count": 5,
     "metadata": {},
     "output_type": "execute_result"
    }
   ],
   "source": [
    "url = 'https://www.ikea.com/us/en/p/vimle-sofa-dalstorp-multicolor-s59298777/'\n",
    "response = requests.get(url)\n",
    "response"
   ]
  },
  {
   "cell_type": "code",
   "execution_count": 6,
   "metadata": {},
   "outputs": [
    {
     "data": {
      "text/plain": [
       "('VIMLE',\n",
       " '$599.00',\n",
       " '31 1/2 \"',\n",
       " '94 7/8 \"',\n",
       " '38 5/8 \"',\n",
       " 'https://www.ikea.com/us/en/static/ikea-logo.f88b07ceb5a8c356b7a0fdcc9a563d63.svg')"
      ]
     },
     "execution_count": 6,
     "metadata": {},
     "output_type": "execute_result"
    }
   ],
   "source": [
    "soup = BeautifulSoup(response.text, \"html.parser\")\n",
    "soup\n",
    "brand = soup.findAll(\"span\", {\"class\":\"product-pip__name\"})[0].contents[0]\n",
    "price = soup.findAll(\"span\", {\"class\":\"product-pip__price__value\"})[0].contents[0]\n",
    "dimensions = soup.findAll(\"dd\", {\"class\":\"product-pip__definition-list-item\"})\n",
    "dimensions\n",
    "width = dimensions[0].contents[0]\n",
    "depth = dimensions[1].contents[0]\n",
    "height  = dimensions[2].contents[0] \n",
    "brand, price\n",
    "imgLink = soup.findAll(\"img\", {\"alt\":\"IKEA\"})[0]['src']\n",
    "brand, price, width, depth, height, imgLink\n",
    "#Width\n",
    "#soup.findAll(\"dd\", {\"class\":\"product-pip__definition-list-item\"})[1].contents[0]\n",
    "\n",
    "# pip__name - Name of company\n",
    "# normal-font range__text-rtl - product Description\n",
    "# pip-price-component - Price obviously\n",
    "# pip__definition-list-item (Every second) - Width, Depth, Height"
   ]
  },
  {
   "cell_type": "code",
   "execution_count": null,
   "metadata": {},
   "outputs": [],
   "source": []
  }
 ],
 "metadata": {
  "kernelspec": {
   "display_name": "Python 3",
   "language": "python",
   "name": "python3"
  },
  "language_info": {
   "codemirror_mode": {
    "name": "ipython",
    "version": 3
   },
   "file_extension": ".py",
   "mimetype": "text/x-python",
   "name": "python",
   "nbconvert_exporter": "python",
   "pygments_lexer": "ipython3",
   "version": "3.7.3"
  }
 },
 "nbformat": 4,
 "nbformat_minor": 2
}
