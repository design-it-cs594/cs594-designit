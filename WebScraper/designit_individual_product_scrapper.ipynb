{
 "cells": [
  {
   "cell_type": "code",
   "execution_count": 2,
   "metadata": {},
   "outputs": [],
   "source": [
    "import requests\n",
    "import urllib.request\n",
    "import time\n",
    "from bs4 import BeautifulSoup"
   ]
  },
  {
   "cell_type": "code",
   "execution_count": 11,
   "metadata": {},
   "outputs": [
    {
     "data": {
      "text/plain": [
       "<Response [200]>"
      ]
     },
     "execution_count": 11,
     "metadata": {},
     "output_type": "execute_result"
    }
   ],
   "source": [
    "url = 'https://www.ikea.com/us/en/p/vimle-sofa-orrsta-black-blue-s59284761/'\n",
    "response = requests.get(url)\n",
    "response"
   ]
  },
  {
   "cell_type": "code",
   "execution_count": 12,
   "metadata": {},
   "outputs": [
    {
     "data": {
      "text/plain": [
       "('VIMLE',\n",
       " '$599.00',\n",
       " ['32 5/8 \"',\n",
       "  '26 3/4 \"',\n",
       "  '94 7/8 \"',\n",
       "  '38 5/8 \"',\n",
       "  '2 3/8 \"',\n",
       "  '5 7/8 \"',\n",
       "  '26 3/4 \"',\n",
       "  '83 1/8 \"',\n",
       "  '21 5/8 \"',\n",
       "  '18 7/8 \"'],\n",
       " 'https://www.ikea.com/PIAimages/0514250_PE639376_S5.JPG?f=s')"
      ]
     },
     "execution_count": 12,
     "metadata": {},
     "output_type": "execute_result"
    }
   ],
   "source": [
    "soup = BeautifulSoup(response.text, \"html.parser\")\n",
    "brand = soup.findAll(\"span\", {\"class\":\"product-pip__name\"})[0].contents[0]\n",
    "price = soup.findAll(\"span\", {\"class\":\"product-pip__price__value\"})[0].contents[0]\n",
    "dimensions = soup.findAll(\"dd\", {\"class\":\"product-pip__definition-list-item\"})\n",
    "\n",
    "#copying all dimensions for now, we'll figure out on what values are important in dimensions\n",
    "d_list = []\n",
    "for i in range(len(dimensions)):\n",
    "    d_list.append(dimensions[i].contents[0])\n",
    "    \n",
    "imgLink = soup.findAll(\"img\", {\"class\":\"\"})[0]['src']\n",
    "\n",
    "brand, price, d_list, imgLink\n",
    "\n",
    "# pip__name - Name of company\n",
    "# normal-font range__text-rtl - product Description\n",
    "# pip-price-component - Price obviously\n",
    "# pip__definition-list-item (Every second) - Width, Depth, Height"
   ]
  },
  {
   "cell_type": "code",
   "execution_count": 29,
   "metadata": {},
   "outputs": [
    {
     "name": "stdout",
     "output_type": "stream",
     "text": [
      "[<dt class=\"product-pip__definition-list-item\">Height including back cushions: </dt>, <dt class=\"product-pip__definition-list-item\">Backrest height: </dt>, <dt class=\"product-pip__definition-list-item\">Width: </dt>, <dt class=\"product-pip__definition-list-item\">Depth: </dt>, <dt class=\"product-pip__definition-list-item\">Height under furniture: </dt>, <dt class=\"product-pip__definition-list-item\">Armrest width: </dt>, <dt class=\"product-pip__definition-list-item\">Armrest height: </dt>, <dt class=\"product-pip__definition-list-item\">Seat width: </dt>, <dt class=\"product-pip__definition-list-item\">Seat depth: </dt>, <dt class=\"product-pip__definition-list-item\">Seat height: </dt>]\n"
     ]
    },
    {
     "data": {
      "text/plain": [
       "'38 5/8 \"'"
      ]
     },
     "execution_count": 29,
     "metadata": {},
     "output_type": "execute_result"
    }
   ],
   "source": [
    "#Contains all dimension-names from product description\n",
    "dimensions_desc = soup.findAll(\"dt\", {\"class\":\"product-pip__definition-list-item\"})\n",
    "print(dimensions_desc)\n",
    "\n",
    "#Contains all dimension-values from product description\n",
    "dimensions = soup.findAll(\"dd\", {\"class\":\"product-pip__definition-list-item\"})\n",
    "dimensions\n",
    "\n",
    "#Finding All height-related dimensions\n",
    "height_index = []\n",
    "for dim in range(0, len(dimensions_desc)):\n",
    "    if(\"height\" in dimensions_desc[dim].contents[0].lower()):\n",
    "        height_index.append(dim)\n",
    "\n",
    "height_index\n",
    "\n",
    "#Finding max of given heights. Seemed in sync with most of the images \n",
    "#with minute variations in the exceptions.\n",
    "heights = []\n",
    "for index in height_index:\n",
    "    heights.append(dimensions[index].contents[0])\n",
    "    \n",
    "height = max(heights)\n",
    "\n",
    "width_index = []\n",
    "for dim in range(0, len(dimensions_desc)):\n",
    "    if(\"width\" in dimensions_desc[dim].contents[0].lower()):\n",
    "        width_index.append(dim)\n",
    "\n",
    "width_index\n",
    "\n",
    "widths = []\n",
    "for index in width_index:\n",
    "    widths.append(dimensions[index].contents[0])\n",
    "    \n",
    "width = max(widths)\n",
    "\n",
    "depth_index = []\n",
    "for dim in range(0, len(dimensions_desc)):\n",
    "    if(\"depth\" in dimensions_desc[dim].contents[0].lower()):\n",
    "        depth_index.append(dim)\n",
    "\n",
    "depth_index\n",
    "\n",
    "depths = []\n",
    "for index in depth_index:\n",
    "    depths.append(dimensions[index].contents[0])\n",
    "    \n",
    "depth = max(depths)\n",
    "depth\n",
    "\n",
    "\n",
    "    "
   ]
  },
  {
   "cell_type": "code",
   "execution_count": 10,
   "metadata": {},
   "outputs": [
    {
     "data": {
      "text/plain": [
       "[<dd class=\"product-pip__definition-list-item\">31 1/2 \"</dd>,\n",
       " <dd class=\"product-pip__definition-list-item\">94 7/8 \"</dd>,\n",
       " <dd class=\"product-pip__definition-list-item\">38 5/8 \"</dd>,\n",
       " <dd class=\"product-pip__definition-list-item\">1 5/8 \"</dd>,\n",
       " <dd class=\"product-pip__definition-list-item\">5 7/8 \"</dd>,\n",
       " <dd class=\"product-pip__definition-list-item\">25 5/8 \"</dd>,\n",
       " <dd class=\"product-pip__definition-list-item\">83 1/8 \"</dd>,\n",
       " <dd class=\"product-pip__definition-list-item\">21 5/8 \"</dd>,\n",
       " <dd class=\"product-pip__definition-list-item\">17 3/4 \"</dd>]"
      ]
     },
     "execution_count": 10,
     "metadata": {},
     "output_type": "execute_result"
    }
   ],
   "source": []
  },
  {
   "cell_type": "code",
   "execution_count": null,
   "metadata": {},
   "outputs": [],
   "source": []
  }
 ],
 "metadata": {
  "kernelspec": {
   "display_name": "Python 3",
   "language": "python",
   "name": "python3"
  },
  "language_info": {
   "codemirror_mode": {
    "name": "ipython",
    "version": 3
   },
   "file_extension": ".py",
   "mimetype": "text/x-python",
   "name": "python",
   "nbconvert_exporter": "python",
   "pygments_lexer": "ipython3",
   "version": "3.7.3"
  }
 },
 "nbformat": 4,
 "nbformat_minor": 2
}
